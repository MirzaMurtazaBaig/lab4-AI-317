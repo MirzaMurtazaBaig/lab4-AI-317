{
 "cells": [
  {
   "cell_type": "code",
   "execution_count": 7,
   "id": "4333cb01-e6f6-4e3d-b8c2-9b86cdd37bf0",
   "metadata": {},
   "outputs": [
    {
     "name": "stdout",
     "output_type": "stream",
     "text": [
      "Predicted Labels: ['Yes' 'No' 'Yes']\n",
      "\n",
      "Confusion Matrix:\n",
      "[[1 0]\n",
      " [0 2]]\n",
      "\n",
      "Accuracy: 1.0\n"
     ]
    }
   ],
   "source": [
    "import numpy as np\n",
    "from sklearn.model_selection import train_test_split\n",
    "from sklearn.naive_bayes import GaussianNB\n",
    "from sklearn.preprocessing import LabelEncoder\n",
    "from sklearn.metrics import confusion_matrix, accuracy_score\n",
    "from sklearn import preprocessing\n",
    "\n",
    "# Dataset: Height, Weight, Length and their classifications (Yes or No)\n",
    "height = [150, 160, 170, 180, 190, 175, 165, 155, 185, 195]\n",
    "weight = [60, 65, 70, 75, 80, 72, 68, 62, 78, 85]\n",
    "length = [30, 35, 40, 45, 50, 42, 38, 33, 47, 52]\n",
    "classification = [\"No\", \"No\", \"Yes\", \"Yes\", \"Yes\", \"Yes\", \"No\", \"No\", \"Yes\", \"Yes\"]\n",
    "\n",
    "# Initialize LabelEncoder for the target variable\n",
    "le_classification = preprocessing.LabelEncoder()\n",
    "\n",
    "# Encode the classification labels (Yes -> 1, No -> 0)\n",
    "classification_encoded = le_classification.fit_transform(classification)\n",
    "\n",
    "# Prepare features (height, weight, length) and labels (classification)\n",
    "features = list(zip(height, weight, length))\n",
    "\n",
    "# Split data into training and testing sets (70% train, 30% test)\n",
    "features_train, features_test, label_train, label_test = train_test_split(\n",
    "    features, classification_encoded, test_size=0.3, random_state=42\n",
    ")\n",
    "\n",
    "# Initialize the Naive Bayes model\n",
    "model = GaussianNB()\n",
    "\n",
    "# Train the model\n",
    "model.fit(features_train, label_train)\n",
    "\n",
    "# Make predictions\n",
    "predicted = model.predict(features_test)\n",
    "\n",
    "# Decode the predicted labels back to 'Yes' or 'No'\n",
    "predicted_decoded = le_classification.inverse_transform(predicted)\n",
    "actual_decoded = le_classification.inverse_transform(label_test)\n",
    "\n",
    "# Output predictions\n",
    "print(\"Predicted Labels:\", predicted_decoded)\n",
    "\n",
    "# Confusion Matrix\n",
    "conf_mat = confusion_matrix(label_test, predicted)\n",
    "print(\"\\nConfusion Matrix:\")\n",
    "print(conf_mat)\n",
    "\n",
    "# Accuracy Score\n",
    "accuracy = accuracy_score(label_test, predicted)\n",
    "print(\"\\nAccuracy:\", accuracy)\n"
   ]
  },
  {
   "cell_type": "code",
   "execution_count": null,
   "id": "1675e5c7-2772-497d-afb4-fe4d52a1ca73",
   "metadata": {},
   "outputs": [],
   "source": []
  }
 ],
 "metadata": {
  "kernelspec": {
   "display_name": "Python 3 (ipykernel)",
   "language": "python",
   "name": "python3"
  },
  "language_info": {
   "codemirror_mode": {
    "name": "ipython",
    "version": 3
   },
   "file_extension": ".py",
   "mimetype": "text/x-python",
   "name": "python",
   "nbconvert_exporter": "python",
   "pygments_lexer": "ipython3",
   "version": "3.12.7"
  }
 },
 "nbformat": 4,
 "nbformat_minor": 5
}
